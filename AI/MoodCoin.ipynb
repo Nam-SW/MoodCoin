{
  "nbformat": 4,
  "nbformat_minor": 0,
  "metadata": {
    "colab": {
      "name": "MoodCoin.ipynb",
      "provenance": [],
      "collapsed_sections": []
    },
    "kernelspec": {
      "name": "python3",
      "display_name": "Python 3"
    },
    "accelerator": "GPU"
  },
  "cells": [
    {
      "cell_type": "markdown",
      "metadata": {
        "id": "m8qv-nA5vEQm",
        "colab_type": "text"
      },
      "source": [
        "# MoodCoin 모델링"
      ]
    },
    {
      "cell_type": "code",
      "metadata": {
        "id": "5yq40wdsxIYQ",
        "colab_type": "code",
        "outputId": "ec51d7e6-3b13-4297-d126-5d7d72c11754",
        "colab": {
          "base_uri": "https://localhost:8080/",
          "height": 791
        }
      },
      "source": [
        "!pip install numpy==1.16.2\n",
        "!pip install keras --upgrade\n",
        "!pip install tensorflow --upgrade"
      ],
      "execution_count": 0,
      "outputs": [
        {
          "output_type": "stream",
          "text": [
            "Requirement already satisfied: numpy==1.16.2 in /usr/local/lib/python3.6/dist-packages (1.16.2)\n",
            "Requirement already up-to-date: keras in /usr/local/lib/python3.6/dist-packages (2.3.1)\n",
            "Requirement already satisfied, skipping upgrade: six>=1.9.0 in /usr/local/lib/python3.6/dist-packages (from keras) (1.12.0)\n",
            "Requirement already satisfied, skipping upgrade: keras-preprocessing>=1.0.5 in /usr/local/lib/python3.6/dist-packages (from keras) (1.1.0)\n",
            "Requirement already satisfied, skipping upgrade: keras-applications>=1.0.6 in /usr/local/lib/python3.6/dist-packages (from keras) (1.0.8)\n",
            "Requirement already satisfied, skipping upgrade: h5py in /usr/local/lib/python3.6/dist-packages (from keras) (2.8.0)\n",
            "Requirement already satisfied, skipping upgrade: numpy>=1.9.1 in /usr/local/lib/python3.6/dist-packages (from keras) (1.16.2)\n",
            "Requirement already satisfied, skipping upgrade: pyyaml in /usr/local/lib/python3.6/dist-packages (from keras) (3.13)\n",
            "Requirement already satisfied, skipping upgrade: scipy>=0.14 in /usr/local/lib/python3.6/dist-packages (from keras) (1.3.3)\n",
            "Requirement already up-to-date: tensorflow in /usr/local/lib/python3.6/dist-packages (2.0.0)\n",
            "Requirement already satisfied, skipping upgrade: protobuf>=3.6.1 in /usr/local/lib/python3.6/dist-packages (from tensorflow) (3.10.0)\n",
            "Requirement already satisfied, skipping upgrade: termcolor>=1.1.0 in /usr/local/lib/python3.6/dist-packages (from tensorflow) (1.1.0)\n",
            "Requirement already satisfied, skipping upgrade: keras-preprocessing>=1.0.5 in /usr/local/lib/python3.6/dist-packages (from tensorflow) (1.1.0)\n",
            "Requirement already satisfied, skipping upgrade: grpcio>=1.8.6 in /usr/local/lib/python3.6/dist-packages (from tensorflow) (1.15.0)\n",
            "Requirement already satisfied, skipping upgrade: six>=1.10.0 in /usr/local/lib/python3.6/dist-packages (from tensorflow) (1.12.0)\n",
            "Requirement already satisfied, skipping upgrade: wrapt>=1.11.1 in /usr/local/lib/python3.6/dist-packages (from tensorflow) (1.11.2)\n",
            "Requirement already satisfied, skipping upgrade: google-pasta>=0.1.6 in /usr/local/lib/python3.6/dist-packages (from tensorflow) (0.1.8)\n",
            "Requirement already satisfied, skipping upgrade: opt-einsum>=2.3.2 in /usr/local/lib/python3.6/dist-packages (from tensorflow) (3.1.0)\n",
            "Requirement already satisfied, skipping upgrade: tensorflow-estimator<2.1.0,>=2.0.0 in /usr/local/lib/python3.6/dist-packages (from tensorflow) (2.0.1)\n",
            "Requirement already satisfied, skipping upgrade: tensorboard<2.1.0,>=2.0.0 in /usr/local/lib/python3.6/dist-packages (from tensorflow) (2.0.2)\n",
            "Requirement already satisfied, skipping upgrade: wheel>=0.26 in /usr/local/lib/python3.6/dist-packages (from tensorflow) (0.33.6)\n",
            "Requirement already satisfied, skipping upgrade: numpy<2.0,>=1.16.0 in /usr/local/lib/python3.6/dist-packages (from tensorflow) (1.16.2)\n",
            "Requirement already satisfied, skipping upgrade: keras-applications>=1.0.8 in /usr/local/lib/python3.6/dist-packages (from tensorflow) (1.0.8)\n",
            "Requirement already satisfied, skipping upgrade: absl-py>=0.7.0 in /usr/local/lib/python3.6/dist-packages (from tensorflow) (0.8.1)\n",
            "Requirement already satisfied, skipping upgrade: gast==0.2.2 in /usr/local/lib/python3.6/dist-packages (from tensorflow) (0.2.2)\n",
            "Requirement already satisfied, skipping upgrade: astor>=0.6.0 in /usr/local/lib/python3.6/dist-packages (from tensorflow) (0.8.1)\n",
            "Requirement already satisfied, skipping upgrade: setuptools in /usr/local/lib/python3.6/dist-packages (from protobuf>=3.6.1->tensorflow) (42.0.2)\n",
            "Requirement already satisfied, skipping upgrade: requests<3,>=2.21.0 in /usr/local/lib/python3.6/dist-packages (from tensorboard<2.1.0,>=2.0.0->tensorflow) (2.21.0)\n",
            "Requirement already satisfied, skipping upgrade: markdown>=2.6.8 in /usr/local/lib/python3.6/dist-packages (from tensorboard<2.1.0,>=2.0.0->tensorflow) (3.1.1)\n",
            "Requirement already satisfied, skipping upgrade: google-auth<2,>=1.6.3 in /usr/local/lib/python3.6/dist-packages (from tensorboard<2.1.0,>=2.0.0->tensorflow) (1.10.0)\n",
            "Requirement already satisfied, skipping upgrade: google-auth-oauthlib<0.5,>=0.4.1 in /usr/local/lib/python3.6/dist-packages (from tensorboard<2.1.0,>=2.0.0->tensorflow) (0.4.1)\n",
            "Requirement already satisfied, skipping upgrade: werkzeug>=0.11.15 in /usr/local/lib/python3.6/dist-packages (from tensorboard<2.1.0,>=2.0.0->tensorflow) (0.16.0)\n",
            "Requirement already satisfied, skipping upgrade: h5py in /usr/local/lib/python3.6/dist-packages (from keras-applications>=1.0.8->tensorflow) (2.8.0)\n",
            "Requirement already satisfied, skipping upgrade: idna<2.9,>=2.5 in /usr/local/lib/python3.6/dist-packages (from requests<3,>=2.21.0->tensorboard<2.1.0,>=2.0.0->tensorflow) (2.8)\n",
            "Requirement already satisfied, skipping upgrade: urllib3<1.25,>=1.21.1 in /usr/local/lib/python3.6/dist-packages (from requests<3,>=2.21.0->tensorboard<2.1.0,>=2.0.0->tensorflow) (1.24.3)\n",
            "Requirement already satisfied, skipping upgrade: certifi>=2017.4.17 in /usr/local/lib/python3.6/dist-packages (from requests<3,>=2.21.0->tensorboard<2.1.0,>=2.0.0->tensorflow) (2019.11.28)\n",
            "Requirement already satisfied, skipping upgrade: chardet<3.1.0,>=3.0.2 in /usr/local/lib/python3.6/dist-packages (from requests<3,>=2.21.0->tensorboard<2.1.0,>=2.0.0->tensorflow) (3.0.4)\n",
            "Requirement already satisfied, skipping upgrade: cachetools<5.0,>=2.0.0 in /usr/local/lib/python3.6/dist-packages (from google-auth<2,>=1.6.3->tensorboard<2.1.0,>=2.0.0->tensorflow) (4.0.0)\n",
            "Requirement already satisfied, skipping upgrade: pyasn1-modules>=0.2.1 in /usr/local/lib/python3.6/dist-packages (from google-auth<2,>=1.6.3->tensorboard<2.1.0,>=2.0.0->tensorflow) (0.2.7)\n",
            "Requirement already satisfied, skipping upgrade: rsa<4.1,>=3.1.4 in /usr/local/lib/python3.6/dist-packages (from google-auth<2,>=1.6.3->tensorboard<2.1.0,>=2.0.0->tensorflow) (4.0)\n",
            "Requirement already satisfied, skipping upgrade: requests-oauthlib>=0.7.0 in /usr/local/lib/python3.6/dist-packages (from google-auth-oauthlib<0.5,>=0.4.1->tensorboard<2.1.0,>=2.0.0->tensorflow) (1.3.0)\n",
            "Requirement already satisfied, skipping upgrade: pyasn1<0.5.0,>=0.4.6 in /usr/local/lib/python3.6/dist-packages (from pyasn1-modules>=0.2.1->google-auth<2,>=1.6.3->tensorboard<2.1.0,>=2.0.0->tensorflow) (0.4.8)\n",
            "Requirement already satisfied, skipping upgrade: oauthlib>=3.0.0 in /usr/local/lib/python3.6/dist-packages (from requests-oauthlib>=0.7.0->google-auth-oauthlib<0.5,>=0.4.1->tensorboard<2.1.0,>=2.0.0->tensorflow) (3.1.0)\n"
          ],
          "name": "stdout"
        }
      ]
    },
    {
      "cell_type": "code",
      "metadata": {
        "id": "GkcPyJZEqkcH",
        "colab_type": "code",
        "outputId": "ae48fd1d-6f6e-42bb-db7e-85c8014c6b3a",
        "colab": {
          "base_uri": "https://localhost:8080/",
          "height": 127
        }
      },
      "source": [
        "from google.colab import drive\n",
        "import numpy as np\n",
        "\n",
        "drive.mount('/content/gdrive')"
      ],
      "execution_count": 0,
      "outputs": [
        {
          "output_type": "stream",
          "text": [
            "Go to this URL in a browser: https://accounts.google.com/o/oauth2/auth?client_id=947318989803-6bn6qk8qdgf4n4g3pfee6491hc0brc4i.apps.googleusercontent.com&redirect_uri=urn%3aietf%3awg%3aoauth%3a2.0%3aoob&response_type=code&scope=email%20https%3a%2f%2fwww.googleapis.com%2fauth%2fdocs.test%20https%3a%2f%2fwww.googleapis.com%2fauth%2fdrive%20https%3a%2f%2fwww.googleapis.com%2fauth%2fdrive.photos.readonly%20https%3a%2f%2fwww.googleapis.com%2fauth%2fpeopleapi.readonly\n",
            "\n",
            "Enter your authorization code:\n",
            "··········\n",
            "Mounted at /content/gdrive\n"
          ],
          "name": "stdout"
        }
      ]
    },
    {
      "cell_type": "code",
      "metadata": {
        "id": "NhA5SreBwkRs",
        "colab_type": "code",
        "colab": {}
      },
      "source": [
        "# from tensorflow.keras.models import load_model\n",
        "# from tensorflow.keras.preprocessing.sequence import pad_sequences\n",
        "from keras.models import load_model\n",
        "from keras.preprocessing.sequence import pad_sequences\n",
        "from keras.utils.np_utils import to_categorical\n",
        "import pickle\n",
        "\n",
        "class Data():\n",
        "    def __init__(self, maxlen=20):\n",
        "        # X = np.load('/content/gdrive/My Drive/project/MoodCoin/X_data.npy')\n",
        "        # Y = np.load('/content/gdrive/My Drive/project/MoodCoin/Y_data.npy')\n",
        "\n",
        "        with open('/content/gdrive/My Drive/project/MoodCoin/x_data.pickle', 'rb') as f:\n",
        "            X = np.array(pickle.load(f))\n",
        "        with open('/content/gdrive/My Drive/project/MoodCoin/y_data.pickle', 'rb') as f:\n",
        "            Y = np.array(pickle.load(f))\n",
        "\n",
        "        # print(set(Y))\n",
        "\n",
        "        X = pad_sequences(X, maxlen=maxlen)\n",
        "        Y = to_categorical(Y).astype(int)\n",
        "\n",
        "        s = np.arange(X.shape[0])\n",
        "        np.random.shuffle(s)\n",
        "        X = X[s]\n",
        "        Y = Y[s]\n",
        "\n",
        "        X_train = X[:-500]\n",
        "        Y_train = Y[:-500]\n",
        "        X_test = X[-500:]\n",
        "        Y_test = Y[-500:]\n",
        "\n",
        "        self.shape = X_train.shape[1:]\n",
        "        self.X_train = X_train\n",
        "        self.Y_train = Y_train\n",
        "        self.X_test = X_test\n",
        "        self.Y_test = Y_test\n",
        "        self.max_features = 5002 # 0은 패딩, 1은 없는 단어이므로 2를 추가.\n",
        "\n",
        "        self.class_number = len(self.Y_test[0])"
      ],
      "execution_count": 0,
      "outputs": []
    },
    {
      "cell_type": "code",
      "metadata": {
        "id": "0EiJCOEIe3dc",
        "colab_type": "code",
        "colab": {}
      },
      "source": [
        "from keras import layers\n",
        "from keras.models import Sequential\n",
        "\n",
        "def build_model(input_size, max_features, output_size):\n",
        "    m = Sequential()\n",
        "    m.add(layers.Embedding(max_features, 32, input_shape=input_size))\n",
        "    m.add(layers.LSTM(64, dropout=0.2, recurrent_dropout=0.2))\n",
        "    \n",
        "    m.add(layers.Dense(16, activation='relu'))\n",
        "    m.add(layers.Dropout(0.5))\n",
        "    m.add(layers.Dense(output_size, activation='softmax'))\n",
        "\n",
        "    m.compile(loss='categorical_crossentropy', optimizer='adam', metrics=['accuracy'])\n",
        "\n",
        "    return m"
      ],
      "execution_count": 0,
      "outputs": []
    },
    {
      "cell_type": "code",
      "metadata": {
        "id": "3tbQ-KtzgJ0o",
        "colab_type": "code",
        "colab": {}
      },
      "source": [
        "import matplotlib.pyplot as plt\n",
        "\n",
        "def plot_graph(history, yname, title=None):\n",
        "    # summarize history for accuracy\n",
        "    if not isinstance(history, dict):\n",
        "        history = history.history\n",
        "\n",
        "    if yname == 'acc':\n",
        "        plt.plot(history['accuracy']) # 선 그리기\n",
        "        plt.plot(history['val_accuracy'])\n",
        "        plt.ylabel('Accuracy') # y축 이름 표시\n",
        "    else:\n",
        "        plt.plot(history['loss'])\n",
        "        plt.plot(history['val_loss'])\n",
        "        plt.ylabel('Loss') # y축 이름 표시\n",
        "        \n",
        "    if title is not None:\n",
        "        plt.title(title) # 그래프 제목 표시\n",
        "    \n",
        "    plt.xlabel('Epoch') # x축 이름 표시\n",
        "    plt.legend(['Training', 'Verification'], loc=0) # 각 라인의 표식 표시\n",
        "    plt.show()"
      ],
      "execution_count": 0,
      "outputs": []
    },
    {
      "cell_type": "code",
      "metadata": {
        "id": "0GPF0DQJZ2uJ",
        "colab_type": "code",
        "outputId": "b5d2f788-2193-426d-8aac-2e1c4d23ee7f",
        "colab": {
          "base_uri": "https://localhost:8080/",
          "height": 1000
        }
      },
      "source": [
        "data = Data()\n",
        "models = [[build_model(data.shape, data.max_features, data.class_number), ] for _ in range(5)]\n",
        "for i in range(len(models)):\n",
        "    history = models[i][0].fit(data.X_train, data.Y_train, batch_size=5, epochs=3, validation_split=0.2)\n",
        "    models[i].append(models[i][0].evaluate(data.X_test, data.Y_test)[1])\n",
        "\n",
        "model, score = max(models, key=lambda l: l[1])\n",
        "model.summary()"
      ],
      "execution_count": 0,
      "outputs": [
        {
          "output_type": "stream",
          "text": [
            "/usr/local/lib/python3.6/dist-packages/tensorflow_core/python/framework/indexed_slices.py:424: UserWarning: Converting sparse IndexedSlices to a dense Tensor of unknown shape. This may consume a large amount of memory.\n",
            "  \"Converting sparse IndexedSlices to a dense Tensor of unknown shape. \"\n"
          ],
          "name": "stderr"
        },
        {
          "output_type": "stream",
          "text": [
            "Train on 2922 samples, validate on 731 samples\n",
            "Epoch 1/3\n",
            "2922/2922 [==============================] - 8s 3ms/step - loss: 1.0845 - accuracy: 0.7529 - val_loss: 0.9320 - val_accuracy: 0.7551\n",
            "Epoch 2/3\n",
            "2922/2922 [==============================] - 8s 3ms/step - loss: 0.9493 - accuracy: 0.7621 - val_loss: 0.8835 - val_accuracy: 0.7551\n",
            "Epoch 3/3\n",
            "2922/2922 [==============================] - 8s 3ms/step - loss: 0.7912 - accuracy: 0.7680 - val_loss: 0.8834 - val_accuracy: 0.7579\n",
            "500/500 [==============================] - 0s 137us/step\n"
          ],
          "name": "stdout"
        },
        {
          "output_type": "stream",
          "text": [
            "/usr/local/lib/python3.6/dist-packages/tensorflow_core/python/framework/indexed_slices.py:424: UserWarning: Converting sparse IndexedSlices to a dense Tensor of unknown shape. This may consume a large amount of memory.\n",
            "  \"Converting sparse IndexedSlices to a dense Tensor of unknown shape. \"\n"
          ],
          "name": "stderr"
        },
        {
          "output_type": "stream",
          "text": [
            "Train on 2922 samples, validate on 731 samples\n",
            "Epoch 1/3\n",
            "2922/2922 [==============================] - 8s 3ms/step - loss: 1.0821 - accuracy: 0.7488 - val_loss: 0.9204 - val_accuracy: 0.7551\n",
            "Epoch 2/3\n",
            "2922/2922 [==============================] - 8s 3ms/step - loss: 0.9244 - accuracy: 0.7621 - val_loss: 0.8838 - val_accuracy: 0.7551\n",
            "Epoch 3/3\n",
            "2922/2922 [==============================] - 8s 3ms/step - loss: 0.7728 - accuracy: 0.7745 - val_loss: 0.9061 - val_accuracy: 0.7579\n",
            "500/500 [==============================] - 0s 140us/step\n"
          ],
          "name": "stdout"
        },
        {
          "output_type": "stream",
          "text": [
            "/usr/local/lib/python3.6/dist-packages/tensorflow_core/python/framework/indexed_slices.py:424: UserWarning: Converting sparse IndexedSlices to a dense Tensor of unknown shape. This may consume a large amount of memory.\n",
            "  \"Converting sparse IndexedSlices to a dense Tensor of unknown shape. \"\n"
          ],
          "name": "stderr"
        },
        {
          "output_type": "stream",
          "text": [
            "Train on 2922 samples, validate on 731 samples\n",
            "Epoch 1/3\n",
            "2922/2922 [==============================] - 8s 3ms/step - loss: 1.1088 - accuracy: 0.7320 - val_loss: 0.9454 - val_accuracy: 0.7551\n",
            "Epoch 2/3\n",
            "2922/2922 [==============================] - 8s 3ms/step - loss: 0.9275 - accuracy: 0.7632 - val_loss: 0.8804 - val_accuracy: 0.7551\n",
            "Epoch 3/3\n",
            "2922/2922 [==============================] - 8s 3ms/step - loss: 0.7766 - accuracy: 0.7775 - val_loss: 0.8983 - val_accuracy: 0.7428\n",
            "500/500 [==============================] - 0s 139us/step\n"
          ],
          "name": "stdout"
        },
        {
          "output_type": "stream",
          "text": [
            "/usr/local/lib/python3.6/dist-packages/tensorflow_core/python/framework/indexed_slices.py:424: UserWarning: Converting sparse IndexedSlices to a dense Tensor of unknown shape. This may consume a large amount of memory.\n",
            "  \"Converting sparse IndexedSlices to a dense Tensor of unknown shape. \"\n"
          ],
          "name": "stderr"
        },
        {
          "output_type": "stream",
          "text": [
            "Train on 2922 samples, validate on 731 samples\n",
            "Epoch 1/3\n",
            "2922/2922 [==============================] - 8s 3ms/step - loss: 1.1036 - accuracy: 0.7218 - val_loss: 0.9276 - val_accuracy: 0.7551\n",
            "Epoch 2/3\n",
            "2922/2922 [==============================] - 8s 3ms/step - loss: 0.9355 - accuracy: 0.7621 - val_loss: 0.8832 - val_accuracy: 0.7551\n",
            "Epoch 3/3\n",
            "2922/2922 [==============================] - 8s 3ms/step - loss: 0.8267 - accuracy: 0.7621 - val_loss: 0.8938 - val_accuracy: 0.7551\n",
            "500/500 [==============================] - 0s 147us/step\n"
          ],
          "name": "stdout"
        },
        {
          "output_type": "stream",
          "text": [
            "/usr/local/lib/python3.6/dist-packages/tensorflow_core/python/framework/indexed_slices.py:424: UserWarning: Converting sparse IndexedSlices to a dense Tensor of unknown shape. This may consume a large amount of memory.\n",
            "  \"Converting sparse IndexedSlices to a dense Tensor of unknown shape. \"\n"
          ],
          "name": "stderr"
        },
        {
          "output_type": "stream",
          "text": [
            "Train on 2922 samples, validate on 731 samples\n",
            "Epoch 1/3\n",
            "2922/2922 [==============================] - 8s 3ms/step - loss: 1.0708 - accuracy: 0.7515 - val_loss: 0.9261 - val_accuracy: 0.7551\n",
            "Epoch 2/3\n",
            "2922/2922 [==============================] - 8s 3ms/step - loss: 0.9431 - accuracy: 0.7621 - val_loss: 0.8752 - val_accuracy: 0.7551\n",
            "Epoch 3/3\n",
            "2922/2922 [==============================] - 8s 3ms/step - loss: 0.7823 - accuracy: 0.7810 - val_loss: 0.8929 - val_accuracy: 0.7456\n",
            "500/500 [==============================] - 0s 133us/step\n",
            "Model: \"sequential_17\"\n",
            "_________________________________________________________________\n",
            "Layer (type)                 Output Shape              Param #   \n",
            "=================================================================\n",
            "embedding_17 (Embedding)     (None, 20, 32)            160064    \n",
            "_________________________________________________________________\n",
            "lstm_17 (LSTM)               (None, 64)                24832     \n",
            "_________________________________________________________________\n",
            "dense_33 (Dense)             (None, 16)                1040      \n",
            "_________________________________________________________________\n",
            "dropout_17 (Dropout)         (None, 16)                0         \n",
            "_________________________________________________________________\n",
            "dense_34 (Dense)             (None, 6)                 102       \n",
            "=================================================================\n",
            "Total params: 186,038\n",
            "Trainable params: 186,038\n",
            "Non-trainable params: 0\n",
            "_________________________________________________________________\n"
          ],
          "name": "stdout"
        }
      ]
    },
    {
      "cell_type": "code",
      "metadata": {
        "id": "Sq5e79jIgmQv",
        "colab_type": "code",
        "outputId": "42a24fcb-34d2-474a-cb5a-a22330c8b222",
        "colab": {
          "base_uri": "https://localhost:8080/",
          "height": 179
        }
      },
      "source": [
        "history = model.fit(data.X_train, data.Y_train, batch_size=5, epochs=3, validation_split=0.2)"
      ],
      "execution_count": 0,
      "outputs": [
        {
          "output_type": "stream",
          "text": [
            "/usr/local/lib/python3.6/dist-packages/tensorflow_core/python/framework/indexed_slices.py:424: UserWarning: Converting sparse IndexedSlices to a dense Tensor of unknown shape. This may consume a large amount of memory.\n",
            "  \"Converting sparse IndexedSlices to a dense Tensor of unknown shape. \"\n"
          ],
          "name": "stderr"
        },
        {
          "output_type": "stream",
          "text": [
            "Train on 2922 samples, validate on 731 samples\n",
            "Epoch 1/3\n",
            "2922/2922 [==============================] - 8s 3ms/step - loss: 1.0878 - accuracy: 0.7266 - val_loss: 0.9387 - val_accuracy: 0.7387\n",
            "Epoch 2/3\n",
            "2922/2922 [==============================] - 8s 3ms/step - loss: 0.9185 - accuracy: 0.7690 - val_loss: 0.9110 - val_accuracy: 0.7387\n",
            "Epoch 3/3\n",
            "2922/2922 [==============================] - 8s 3ms/step - loss: 0.7642 - accuracy: 0.7782 - val_loss: 0.9703 - val_accuracy: 0.7483\n"
          ],
          "name": "stdout"
        }
      ]
    },
    {
      "cell_type": "code",
      "metadata": {
        "id": "5vrqMMyKvgD-",
        "colab_type": "code",
        "outputId": "e412bf10-86ce-41f8-a83a-d727ebc06d3f",
        "colab": {
          "base_uri": "https://localhost:8080/",
          "height": 35
        }
      },
      "source": [
        "# score = model.evaluate(data.X_test, data.Y_test)\n",
        "# print('Test accuarcy: {:0.2f}%'.format(score[1] * 100))\n",
        "score"
      ],
      "execution_count": 0,
      "outputs": [
        {
          "output_type": "execute_result",
          "data": {
            "text/plain": [
              "0.7699999809265137"
            ]
          },
          "metadata": {
            "tags": []
          },
          "execution_count": 59
        }
      ]
    },
    {
      "cell_type": "code",
      "metadata": {
        "id": "ejiHHPVUvrLp",
        "colab_type": "code",
        "outputId": "47b93dae-f780-42dc-a5a7-24772d50888a",
        "colab": {
          "base_uri": "https://localhost:8080/",
          "height": 541
        }
      },
      "source": [
        "plot_graph(history, 'acc')\n",
        "plot_graph(history, 'loss')"
      ],
      "execution_count": 0,
      "outputs": [
        {
          "output_type": "display_data",
          "data": {
            "image/png": "[encoded data removed]",
            "text/plain": [
              "<Figure size 432x288 with 1 Axes>"
            ]
          },
          "metadata": {
            "tags": []
          }
        },
        {
          "output_type": "display_data",
          "data": {
            "image/png": "[encoded data removed]",
            "text/plain": [
              "<Figure size 432x288 with 1 Axes>"
            ]
          },
          "metadata": {
            "tags": []
          }
        }
      ]
    },
    {
      "cell_type": "code",
      "metadata": {
        "id": "Mde6L1F01J4m",
        "colab_type": "code",
        "colab": {}
      },
      "source": [
        "model.save('/content/gdrive/My Drive/project/MoodCoin/model.h5')"
      ],
      "execution_count": 0,
      "outputs": []
    },
    {
      "cell_type": "code",
      "metadata": {
        "id": "OLiXh-2OpaF2",
        "colab_type": "code",
        "outputId": "ca804736-6c3c-432a-89ff-f94dd93fdd1a",
        "colab": {
          "base_uri": "https://localhost:8080/",
          "height": 71
        }
      },
      "source": [
        "# d = np.array([[0, 0, 0, 0, 0, 0, 0, 0, 0, 0, 0, 0, 0, 0, 0, 0, 0, 0, 0, 4], [  0,   0,   0,   0,   0,   0,   0,   0,   0,   0,   0,   0,   0,\n",
        "#          0,   0,   0,   0, 706,  34, 151], [  0,   0,   0,   0,   0,   0,   0,   0,   0,   0,   0,   0,   0,\n",
        "#          0,   0,   0,   0,   0,   2, 151], [  0,   0,   0,   0,   0,   0,   0,   0,   0,   0,   0,   0,   0,\n",
        "#          0,   0,   0,   0, 354, 701,   2]])\n",
        "\n",
        "emotion = ['감정 없음', '기쁨', '분노', '불안', '슬픔', '짜증']\n",
        "s = np.arange(data.X_train.shape[0])\n",
        "np.random.shuffle(s)\n",
        "print(s[:10])\n",
        "d = data.X_train[s[:10]]\n",
        "y = data.Y_train[s[:10]]\n",
        "\n",
        "print([emotion[np.argmax(pred)] for pred in model.predict(d)])\n",
        "print([np.argmax(Y) for Y in y])"
      ],
      "execution_count": 0,
      "outputs": [
        {
          "output_type": "stream",
          "text": [
            "[2397 2857 1104 1863 2086 3317  845 2990  301 1797]\n",
            "['감정 없음', '감정 없음', '기쁨', '기쁨', '감정 없음', '감정 없음', '감정 없음', '감정 없음', '감정 없음', '감정 없음']\n",
            "[0, 0, 1, 1, 2, 0, 4, 0, 0, 0]\n"
          ],
          "name": "stdout"
        }
      ]
    }
  ]
}